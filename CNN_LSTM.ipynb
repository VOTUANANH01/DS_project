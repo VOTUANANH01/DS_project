{
  "nbformat": 4,
  "nbformat_minor": 0,
  "metadata": {
    "colab": {
      "name": "CNN_LSTM.ipynb",
      "provenance": [],
      "collapsed_sections": [],
      "include_colab_link": true
    },
    "kernelspec": {
      "name": "python3",
      "display_name": "Python 3"
    },
    "language_info": {
      "name": "python"
    },
    "accelerator": "GPU"
  },
  "cells": [
    {
      "cell_type": "markdown",
      "metadata": {
        "id": "view-in-github",
        "colab_type": "text"
      },
      "source": [
        "<a href=\"https://colab.research.google.com/github/VOTUANANH01/DS_project/blob/master/CNN_LSTM.ipynb\" target=\"_parent\"><img src=\"https://colab.research.google.com/assets/colab-badge.svg\" alt=\"Open In Colab\"/></a>"
      ]
    },
    {
      "cell_type": "code",
      "source": [
        "!git clone https://github.com/JJAlmagro/subcellular_localization.git\n",
        "%cd /content/subcellular_localization/notebook tutorial\n",
        "\n",
        "!rm -rf /usr/local/lib/python3.7/dist-packages/theano\n",
        "!pip install --upgrade https://github.com/Theano/Theano/archive/master.zip\n",
        "!pip install --upgrade https://github.com/Lasagne/Lasagne/archive/master.zip\n",
        "!pip install confusionmatrix\n",
        "!pip install utils\n",
        "!pip install metrics_mc"
      ],
      "metadata": {
        "colab": {
          "base_uri": "https://localhost:8080/"
        },
        "id": "s9nolbPhMytM",
        "outputId": "cf20c4da-5f69-48d0-d91e-20e04406c1f5"
      },
      "execution_count": null,
      "outputs": [
        {
          "output_type": "stream",
          "name": "stdout",
          "text": [
            "Cloning into 'subcellular_localization'...\n",
            "remote: Enumerating objects: 64, done.\u001b[K\n",
            "remote: Total 64 (delta 0), reused 0 (delta 0), pack-reused 64\u001b[K\n",
            "Unpacking objects: 100% (64/64), done.\n",
            "/content/subcellular_localization/notebook tutorial\n",
            "Collecting https://github.com/Theano/Theano/archive/master.zip\n",
            "  Downloading https://github.com/Theano/Theano/archive/master.zip\n",
            "\u001b[K     \\ 13.4 MB 564 kB/s\n",
            "\u001b[?25hRequirement already satisfied: numpy>=1.9.1 in /usr/local/lib/python3.7/dist-packages (from Theano==1.0.5+unknown) (1.21.6)\n",
            "Requirement already satisfied: scipy>=0.14 in /usr/local/lib/python3.7/dist-packages (from Theano==1.0.5+unknown) (1.4.1)\n",
            "Requirement already satisfied: six>=1.9.0 in /usr/local/lib/python3.7/dist-packages (from Theano==1.0.5+unknown) (1.15.0)\n",
            "Building wheels for collected packages: Theano\n",
            "  Building wheel for Theano (setup.py) ... \u001b[?25l\u001b[?25hdone\n",
            "  Created wheel for Theano: filename=Theano-1.0.5+unknown-py3-none-any.whl size=2667300 sha256=16a4e5f94ff4caa3b0ae5969383b6037e4aea489457604d0986d7072f26885e7\n",
            "  Stored in directory: /tmp/pip-ephem-wheel-cache-n9hrq2zc/wheels/d1/38/85/558fc0e4d0c26db812304f163e348fb242767d3ea27da937fe\n",
            "Successfully built Theano\n",
            "Installing collected packages: Theano\n",
            "Successfully installed Theano-1.0.5+unknown\n",
            "Collecting https://github.com/Lasagne/Lasagne/archive/master.zip\n",
            "  Downloading https://github.com/Lasagne/Lasagne/archive/master.zip\n",
            "\u001b[K     | 231 kB 6.1 MB/s\n",
            "\u001b[?25hRequirement already satisfied: numpy in /usr/local/lib/python3.7/dist-packages (from Lasagne==0.2.dev1) (1.21.6)\n",
            "Building wheels for collected packages: Lasagne\n",
            "  Building wheel for Lasagne (setup.py) ... \u001b[?25l\u001b[?25hdone\n",
            "  Created wheel for Lasagne: filename=Lasagne-0.2.dev1-py3-none-any.whl size=122805 sha256=cab3a3e276655194bcd6dd45383032e399e023511f227fc58774aefff10cce02\n",
            "  Stored in directory: /tmp/pip-ephem-wheel-cache-stbxiizh/wheels/b6/a5/97/c657632d2b7fcff539623ea56996e09ec3c83c871e25a62cc5\n",
            "Successfully built Lasagne\n",
            "Installing collected packages: Lasagne\n",
            "Successfully installed Lasagne-0.2.dev1\n",
            "Collecting confusionmatrix\n",
            "  Downloading confusionmatrix-0.0.0.zip (1.9 kB)\n",
            "\u001b[33mWARNING: Discarding https://files.pythonhosted.org/packages/99/87/c84079dc1ec2f3620a46e85264a0a3c679a82b662b76f807074fbcfaa70f/confusionmatrix-0.0.0.zip#sha256=1f181451c137d61ecc905ecf80354b6b48b3cda3fa617d4f90952a0ecda249a9 (from https://pypi.org/simple/confusionmatrix/). Command errored out with exit status 1: python setup.py egg_info Check the logs for full command output.\u001b[0m\n",
            "\u001b[31mERROR: Could not find a version that satisfies the requirement confusionmatrix (from versions: 0.0.0)\u001b[0m\n",
            "\u001b[31mERROR: No matching distribution found for confusionmatrix\u001b[0m\n",
            "Collecting utils\n",
            "  Downloading utils-1.0.1-py2.py3-none-any.whl (21 kB)\n",
            "Installing collected packages: utils\n",
            "Successfully installed utils-1.0.1\n",
            "\u001b[31mERROR: Could not find a version that satisfies the requirement metrics_mc (from versions: none)\u001b[0m\n",
            "\u001b[31mERROR: No matching distribution found for metrics_mc\u001b[0m\n"
          ]
        }
      ]
    },
    {
      "cell_type": "code",
      "source": [
        ""
      ],
      "metadata": {
        "id": "1d-sZp2XqQZ3"
      },
      "execution_count": null,
      "outputs": []
    },
    {
      "cell_type": "code",
      "source": [
        "# Import all the necessary modules\n",
        "import os\n",
        "import sys\n",
        "os.environ[\"THEANO_FLAGS\"] = \"mode=FAST_RUN,optimizer=None,device=cpu,floatX=float32\"\n",
        "sys.path.insert(0,'..')\n",
        "import numpy as np\n",
        "import theano\n",
        "import theano.tensor as T\n",
        "import lasagne\n",
        "from confusionmatrix import ConfusionMatrix\n",
        "from utils import iterate_minibatches\n",
        "import matplotlib.pyplot as plt\n",
        "import time\n",
        "import itertools\n",
        "from metrics_mc import *\n",
        "from models import *\n",
        "%matplotlib inline"
      ],
      "metadata": {
        "id": "_3TicKurNoKi"
      },
      "execution_count": null,
      "outputs": []
    },
    {
      "cell_type": "markdown",
      "source": [
        "Building the network\n",
        "The first thing that we have to do is to define the network architecture. Here we are going to use an input layer, two convolutional layers, a bidirectional LSTM, a dense layer and an output layer. These are the steps that we are going to follow:\n",
        "\n",
        "1.- Specify the hyperparameters of the network:"
      ],
      "metadata": {
        "id": "HhHEYWTGNP-a"
      }
    },
    {
      "cell_type": "code",
      "execution_count": null,
      "metadata": {
        "id": "8aEsO2T1MqN3"
      },
      "outputs": [],
      "source": [
        "batch_size = 128\n",
        "seq_len = 400\n",
        "# seq_len=1000\n",
        "n_feat = 20\n",
        "n_hid = 15\n",
        "n_class = 10\n",
        "lr = 0.0025\n",
        "n_filt = 10\n",
        "drop_prob = 0.5"
      ]
    },
    {
      "cell_type": "markdown",
      "source": [
        "2.- Define the input variables to our network:\n",
        "\n"
      ],
      "metadata": {
        "id": "16nAzHBwNULa"
      }
    },
    {
      "cell_type": "code",
      "source": [
        "# We use ftensor3 because the protein data is a 3D-matrix in float32 \n",
        "input_var = T.ftensor3('inputs')\n",
        "# ivector because the labels is a single dimensional vector of integers\n",
        "target_var = T.ivector('targets')\n",
        "# fmatrix because the masks to ignore the padded positions is a 2D-matrix in float32\n",
        "mask_var = T.fmatrix('masks')\n",
        "# Dummy data to check the size of the layers during the building of the network\n",
        "X = np.random.randint(0,10,size=(batch_size,seq_len,n_feat)).astype('float32')\n",
        "Xmask = np.ones((batch_size,seq_len)).astype('float32')"
      ],
      "metadata": {
        "id": "lDXvAmyHNWtL"
      },
      "execution_count": null,
      "outputs": []
    },
    {
      "cell_type": "markdown",
      "source": [
        "3.- Define the layers of the network:\n",
        "\n"
      ],
      "metadata": {
        "id": "OIjalJK2NvG6"
      }
    },
    {
      "cell_type": "code",
      "source": [
        "import random\n",
        "SEED = 42\n",
        "random.seed(SEED)\n",
        "np.random.seed(SEED)"
      ],
      "metadata": {
        "id": "2OTBPdfQNEDR"
      },
      "execution_count": null,
      "outputs": []
    },
    {
      "cell_type": "code",
      "source": [
        "# Input layer, holds the shape of the data\n",
        "l_in = lasagne.layers.InputLayer(shape=(batch_size, None, n_feat), input_var=input_var, name='Input')\n",
        "print('Input layer: {}'.format(\n",
        "    lasagne.layers.get_output(l_in, inputs={l_in: input_var}).eval({input_var: X}).shape))\n",
        "\n",
        "# Mask input layer\n",
        "l_mask = lasagne.layers.InputLayer(shape=(batch_size, None), input_var=mask_var, name='Mask')\n",
        "print('Mask layer: {}'.format(\n",
        "    lasagne.layers.get_output(l_mask, inputs={l_mask: mask_var}).eval({mask_var: Xmask}).shape))\n",
        "\n",
        "# Shuffle shape to be properly read by the CNN layer\n",
        "l_shu = lasagne.layers.DimshuffleLayer(l_in, (0,2,1))\n",
        "print('DimshuffleLayer layer: {}'.format(\n",
        "    lasagne.layers.get_output(l_shu, inputs={l_in: input_var}).eval({input_var: X}).shape))\n",
        "\n",
        "# Convolutional layers with different filter size\n",
        "l_conv_a = lasagne.layers.Conv1DLayer(l_shu, num_filters=n_filt, pad='same', stride=1, \n",
        "                                      filter_size=3, nonlinearity=lasagne.nonlinearities.rectify)\n",
        "print('Convolutional layer size 3: {}'.format(\n",
        "    lasagne.layers.get_output(l_conv_a, inputs={l_in: input_var}).eval({input_var: X}).shape))\n",
        "\n",
        "l_conv_b = lasagne.layers.Conv1DLayer(l_shu, num_filters=n_filt, pad='same', stride=1, \n",
        "                                      filter_size=5, nonlinearity=lasagne.nonlinearities.rectify)\n",
        "print('Convolutional layer size 5: {}'.format(\n",
        "    lasagne.layers.get_output(l_conv_b, inputs={l_in: input_var}).eval({input_var: X}).shape))\n",
        "\n",
        "# The output is concatenated\n",
        "l_conc = lasagne.layers.ConcatLayer([l_conv_a, l_conv_b], axis=1)\n",
        "print('Concatenated convolutional layers: {}'.format(\n",
        "    lasagne.layers.get_output(l_conc, inputs={l_in: input_var}).eval({input_var: X}).shape))\n",
        "\n",
        "# Second CNN layer\n",
        "l_conv_final = lasagne.layers.Conv1DLayer(l_conc, num_filters=n_filt*2, pad='same', \n",
        "                                          stride=1, filter_size=3, \n",
        "                                          nonlinearity=lasagne.nonlinearities.rectify)\n",
        "print('Final convolutional layer: {}'.format(\n",
        "    lasagne.layers.get_output(l_conv_final, inputs={l_in: input_var}).eval({input_var: X}).shape))\n",
        "\n",
        "l_reshu = lasagne.layers.DimshuffleLayer(l_conv_final, (0,2,1))\n",
        "print('Second DimshuffleLayer layer: {}'.format(\n",
        "    lasagne.layers.get_output(l_reshu, inputs={l_in: input_var}).eval({input_var: X}).shape))\n",
        "\n",
        "# Bidirectional LSTM layer, we only take the last hidden state (only_return_final)\n",
        "l_fwd = lasagne.layers.LSTMLayer(l_reshu, num_units=n_hid, name='LSTMFwd', mask_input=l_mask, \n",
        "                                 only_return_final=True, nonlinearity=lasagne.nonlinearities.tanh)\n",
        "l_bck = lasagne.layers.LSTMLayer(l_reshu, num_units=n_hid, name='LSTMBck', mask_input=l_mask, \n",
        "                                 only_return_final=True, backwards=True, nonlinearity=lasagne.nonlinearities.tanh)\n",
        "print('Forward LSTM last hidden state: {}'.format(\n",
        "    lasagne.layers.get_output(l_fwd, inputs={l_in: input_var, l_mask: mask_var}).eval(\n",
        "        {input_var: X, mask_var:Xmask}).shape))\n",
        "print('Backward LSTM hidden state: {}'.format(\n",
        "    lasagne.layers.get_output(l_bck, inputs={l_in: input_var, l_mask: mask_var}).eval(\n",
        "        {input_var: X, mask_var:Xmask}).shape))\n",
        "\n",
        "# Concatenate both layers\n",
        "l_conc_lstm = lasagne.layers.ConcatLayer([l_fwd, l_bck], axis=1)\n",
        "print('Concatenated last hidden states: {}'.format(\n",
        "    lasagne.layers.get_output(l_conc_lstm, inputs={l_in: input_var, l_mask: mask_var}).eval(\n",
        "        {input_var: X, mask_var:Xmask}).shape))\n",
        "\n",
        "# Dense layer with ReLu activation function\n",
        "l_dense = lasagne.layers.DenseLayer(l_conc_lstm, num_units=n_hid*2, name=\"Dense\",\n",
        "                                    nonlinearity=lasagne.nonlinearities.rectify)\n",
        "print('Dense layer: {}'.format(\n",
        "    lasagne.layers.get_output(l_dense, inputs={l_in: input_var, l_mask: mask_var}).eval(\n",
        "        {input_var: X, mask_var:Xmask}).shape))\n",
        "\n",
        "# Output layer with a Softmax activation function. Note that we include a dropout layer\n",
        "l_out = lasagne.layers.DenseLayer(lasagne.layers.dropout(l_dense, p=drop_prob), num_units=n_class, name=\"Softmax\", \n",
        "                                  nonlinearity=lasagne.nonlinearities.softmax)\n",
        "print('Output layer: {}'.format(\n",
        "    lasagne.layers.get_output(l_out, inputs={l_in: input_var, l_mask: mask_var}).eval(\n",
        "        {input_var: X, mask_var:Xmask}).shape))"
      ],
      "metadata": {
        "colab": {
          "base_uri": "https://localhost:8080/"
        },
        "id": "3SEiODZNNwLa",
        "outputId": "b9ceb8dd-50a7-4910-91fd-7365155961ad"
      },
      "execution_count": null,
      "outputs": [
        {
          "output_type": "stream",
          "name": "stdout",
          "text": [
            "Input layer: (128, 400, 20)\n",
            "Mask layer: (128, 400)\n",
            "DimshuffleLayer layer: (128, 20, 400)\n"
          ]
        },
        {
          "output_type": "stream",
          "name": "stderr",
          "text": [
            "WARNING (theano.tensor.blas): We did not find a dynamic library in the library_dir of the library we use for blas. If you use ATLAS, make sure to compile it with dynamics library.\n"
          ]
        },
        {
          "output_type": "stream",
          "name": "stdout",
          "text": [
            "Convolutional layer size 3: (128, 10, 400)\n",
            "Convolutional layer size 5: (128, 10, 400)\n",
            "Concatenated convolutional layers: (128, 20, 400)\n",
            "Final convolutional layer: (128, 20, 400)\n",
            "Second DimshuffleLayer layer: (128, 400, 20)\n",
            "Forward LSTM last hidden state: (128, 15)\n",
            "Backward LSTM hidden state: (128, 15)\n",
            "Concatenated last hidden states: (128, 30)\n",
            "Dense layer: (128, 30)\n",
            "Output layer: (128, 10)\n"
          ]
        }
      ]
    },
    {
      "cell_type": "markdown",
      "source": [
        "4.- Calculate the prediction and network loss for the training set and update the network weights:\n",
        "\n"
      ],
      "metadata": {
        "id": "uLLYF0Y8OVD6"
      }
    },
    {
      "cell_type": "code",
      "source": [
        "# Get output training, deterministic=False is used for training\n",
        "prediction = lasagne.layers.get_output(l_out, inputs={l_in: input_var, l_mask: mask_var}, deterministic=False)\n",
        "\n",
        "# Calculate the categorical cross entropy between the labels and the prediction\n",
        "t_loss = T.nnet.categorical_crossentropy(prediction, target_var)\n",
        "\n",
        "# Training loss\n",
        "loss = T.mean(t_loss)\n",
        "\n",
        "# Parameters\n",
        "params = lasagne.layers.get_all_params([l_out], trainable=True)\n",
        "\n",
        "# Get the network gradients and perform total norm constraint normalization\n",
        "all_grads = lasagne.updates.total_norm_constraint(T.grad(loss, params),3)\n",
        "\n",
        "# Update parameters using ADAM \n",
        "updates = lasagne.updates.adam(all_grads, params, learning_rate=lr)"
      ],
      "metadata": {
        "id": "qHarPRClOUYD"
      },
      "execution_count": null,
      "outputs": []
    },
    {
      "cell_type": "markdown",
      "source": [
        "5.- Calculate the prediction and network loss for the validation set:\n",
        "\n"
      ],
      "metadata": {
        "id": "oR7OfFjEOa5S"
      }
    },
    {
      "cell_type": "code",
      "source": [
        "# Get output validation, deterministic=True is only use for validation\n",
        "val_prediction = lasagne.layers.get_output(l_out, inputs={l_in: input_var, l_mask: mask_var}, deterministic=True)\n",
        "\n",
        "# Calculate the categorical cross entropy between the labels and the prediction\n",
        "t_val_loss = lasagne.objectives.categorical_crossentropy(val_prediction, target_var)\n",
        "\n",
        "# Validation loss \n",
        "val_loss = T.mean(t_val_loss)"
      ],
      "metadata": {
        "id": "Wae5x2J-OckS"
      },
      "execution_count": null,
      "outputs": []
    },
    {
      "cell_type": "markdown",
      "source": [
        "6.- Build theano functions:\n",
        "\n"
      ],
      "metadata": {
        "id": "V2wlNYuAOh8a"
      }
    },
    {
      "cell_type": "code",
      "source": [
        "# Build functions\n",
        "train_fn = theano.function([input_var, target_var, mask_var], [loss, prediction], updates=updates)\n",
        "val_fn = theano.function([input_var, target_var, mask_var], [val_loss, val_prediction])"
      ],
      "metadata": {
        "id": "cqpgJDjcOgES"
      },
      "execution_count": null,
      "outputs": []
    },
    {
      "cell_type": "markdown",
      "source": [
        "Load dataset\n",
        "Once that the network is built, the next step is to load the training and the validation set"
      ],
      "metadata": {
        "id": "BAUeZBQKOkMD"
      }
    },
    {
      "cell_type": "code",
      "source": [
        "# Load the encoded protein sequences, labels and masks\n",
        "train = np.load('data/reduced_train.npz')\n",
        "# train = np.load('/content/subcellular_localization/data/train.npz')\n",
        "\n",
        "X_train = train['X_train']\n",
        "y_train = train['y_train']\n",
        "mask_train = train['mask_train']\n",
        "print(X_train.shape)"
      ],
      "metadata": {
        "colab": {
          "base_uri": "https://localhost:8080/"
        },
        "id": "5VKkMeZtOmoq",
        "outputId": "7a007ffb-6b76-4847-a1ee-caf61e82f4be"
      },
      "execution_count": null,
      "outputs": [
        {
          "output_type": "stream",
          "name": "stdout",
          "text": [
            "(2423, 400, 20)\n"
          ]
        }
      ]
    },
    {
      "cell_type": "code",
      "source": [
        "validation = np.load('data/reduced_val.npz')\n",
        "# validation = np.load('/content/subcellular_localization/data/test.npz')\n",
        "X_val = validation['X_val']\n",
        "y_val = validation['y_val']\n",
        "mask_val = validation['mask_val']\n",
        "# X_val = validation['X_test']\n",
        "# y_val = validation['y_test']\n",
        "# mask_val = validation['mask_test']\n",
        "print(X_val.shape)"
      ],
      "metadata": {
        "colab": {
          "base_uri": "https://localhost:8080/"
        },
        "id": "YZm-MHZ-PljK",
        "outputId": "c5bb1f0c-f88a-465b-d891-c851b2456e07"
      },
      "execution_count": null,
      "outputs": [
        {
          "output_type": "stream",
          "name": "stdout",
          "text": [
            "(635, 400, 20)\n"
          ]
        }
      ]
    },
    {
      "cell_type": "markdown",
      "source": [
        "Training\n",
        "Once that the data is ready and the network compiled we can start with the training of the model. Here we define the number of epochs that we want to perform"
      ],
      "metadata": {
        "id": "xvowk7bjPq2K"
      }
    },
    {
      "cell_type": "code",
      "source": [
        "# Number of epochs\n",
        "num_epochs = 100\n",
        "\n",
        "# Lists to save loss and accuracy of each epoch\n",
        "loss_training = []\n",
        "loss_validation = []\n",
        "acc_training = []\n",
        "acc_validation = []\n",
        "start_time = time.time()\n",
        "min_val_loss = float(\"inf\")\n",
        "\n",
        "# Start training \n",
        "for epoch in range(num_epochs):\n",
        "    \n",
        "    # Full pass training set\n",
        "    train_err = 0\n",
        "    train_batches = 0\n",
        "    confusion_train = ConfusionMatrix(n_class)\n",
        "\n",
        "    # Generate minibatches and train on each one of them\n",
        "    for batch in iterate_minibatches(X_train.astype(np.float32), y_train.astype(np.int32), \n",
        "                                     mask_train.astype(np.float32), batch_size, shuffle=True):\n",
        "        # Inputs to the network\n",
        "        inputs, targets, in_masks = batch\n",
        "        # Calculate loss and prediction\n",
        "        tr_err, predict = train_fn(inputs, targets, in_masks)\n",
        "        train_err += tr_err\n",
        "        train_batches += 1\n",
        "        # Get the predicted class, the one with the maximum likelihood\n",
        "        preds = np.argmax(predict, axis=-1)\n",
        "        confusion_train.batch_add(targets, preds)\n",
        "    \n",
        "    # Average loss and accuracy\n",
        "    train_loss = train_err / train_batches\n",
        "    train_accuracy = confusion_train.accuracy()\n",
        "    cf_train = confusion_train.ret_mat()\n",
        "\n",
        "    val_err = 0\n",
        "    val_batches = 0\n",
        "    confusion_valid = ConfusionMatrix(n_class)\n",
        "\n",
        "    # Generate minibatches and validate on each one of them, same procedure as before\n",
        "    for batch in iterate_minibatches(X_val.astype(np.float32), y_val.astype(np.int32), \n",
        "                                     mask_val.astype(np.float32), batch_size, shuffle=True):\n",
        "        inputs, targets, in_masks = batch\n",
        "        err, predict_val = val_fn(inputs, targets, in_masks)\n",
        "        val_err += err\n",
        "        val_batches += 1\n",
        "        preds = np.argmax(predict_val, axis=-1)\n",
        "        confusion_valid.batch_add(targets, preds)\n",
        "\n",
        "    val_loss = val_err / val_batches\n",
        "    val_accuracy = confusion_valid.accuracy()\n",
        "    cf_val = confusion_valid.ret_mat()\n",
        "    \n",
        "    loss_training.append(train_loss)\n",
        "    loss_validation.append(val_loss)\n",
        "    acc_training.append(train_accuracy)\n",
        "    acc_validation.append(val_accuracy)\n",
        "    \n",
        "    # Save the model parameters at the epoch with the lowest validation loss\n",
        "    if min_val_loss > val_loss:\n",
        "        min_val_loss = val_loss\n",
        "        np.savez('params/CNN-LSTM_params.npz', *lasagne.layers.get_all_param_values(l_out))\n",
        "    \n",
        "    print(\"Epoch {} of {} time elapsed {:.3f}s\".format(epoch + 1, num_epochs, time.time() - start_time))\n",
        "    print(\"  training loss:\\t\\t{:.6f}\".format(train_loss))\n",
        "    print(\"  validation loss:\\t\\t{:.6f}\".format(val_loss))\n",
        "    print(\"  training accuracy:\\t\\t{:.2f} %\".format(train_accuracy * 100))\n",
        "    print(\"  validation accuracy:\\t\\t{:.2f} %\".format(val_accuracy * 100))\n",
        "    print(\"  training Gorodkin:\\t\\t{:.2f}\".format(gorodkin(cf_train)))\n",
        "    print(\"  validation Gorodkin:\\t\\t{:.2f}\".format(gorodkin(cf_val)))"
      ],
      "metadata": {
        "colab": {
          "base_uri": "https://localhost:8080/"
        },
        "id": "8vdrPsh4Poda",
        "outputId": "47b590e4-d53e-462d-c98c-2b7a78544ac5"
      },
      "execution_count": null,
      "outputs": [
        {
          "output_type": "stream",
          "name": "stdout",
          "text": [
            "Epoch 1 of 100 time elapsed 18.356s\n",
            "  training loss:\t\t2.239017\n",
            "  validation loss:\t\t2.128506\n",
            "  training accuracy:\t\t23.11 %\n",
            "  validation accuracy:\t\t23.75 %\n",
            "  training Gorodkin:\t\t0.01\n",
            "  validation Gorodkin:\t\tnan\n",
            "Epoch 2 of 100 time elapsed 36.858s\n",
            "  training loss:\t\t2.115928\n",
            "  validation loss:\t\t2.048726\n",
            "  training accuracy:\t\t23.23 %\n",
            "  validation accuracy:\t\t23.75 %\n",
            "  training Gorodkin:\t\t0.02\n",
            "  validation Gorodkin:\t\tnan\n",
            "Epoch 3 of 100 time elapsed 53.517s\n",
            "  training loss:\t\t2.063195\n",
            "  validation loss:\t\t1.993125\n",
            "  training accuracy:\t\t25.00 %\n",
            "  validation accuracy:\t\t37.97 %\n",
            "  training Gorodkin:\t\t0.04\n",
            "  validation Gorodkin:\t\t0.24\n",
            "Epoch 4 of 100 time elapsed 68.408s\n",
            "  training loss:\t\t1.948599\n",
            "  validation loss:\t\t1.763553\n",
            "  training accuracy:\t\t34.05 %\n",
            "  validation accuracy:\t\t41.56 %\n",
            "  training Gorodkin:\t\t0.17\n",
            "  validation Gorodkin:\t\t0.30\n",
            "Epoch 5 of 100 time elapsed 81.885s\n",
            "  training loss:\t\t1.763658\n",
            "  validation loss:\t\t1.644162\n",
            "  training accuracy:\t\t41.82 %\n",
            "  validation accuracy:\t\t41.41 %\n",
            "  training Gorodkin:\t\t0.28\n",
            "  validation Gorodkin:\t\t0.29\n",
            "Epoch 6 of 100 time elapsed 93.510s\n",
            "  training loss:\t\t1.644691\n",
            "  validation loss:\t\t1.514765\n",
            "  training accuracy:\t\t43.91 %\n",
            "  validation accuracy:\t\t43.59 %\n",
            "  training Gorodkin:\t\t0.31\n",
            "  validation Gorodkin:\t\t0.32\n",
            "Epoch 7 of 100 time elapsed 105.632s\n",
            "  training loss:\t\t1.579106\n",
            "  validation loss:\t\t1.441872\n",
            "  training accuracy:\t\t44.53 %\n",
            "  validation accuracy:\t\t46.72 %\n",
            "  training Gorodkin:\t\t0.32\n",
            "  validation Gorodkin:\t\t0.36\n",
            "Epoch 8 of 100 time elapsed 117.850s\n",
            "  training loss:\t\t1.526829\n",
            "  validation loss:\t\t1.517734\n",
            "  training accuracy:\t\t46.59 %\n",
            "  validation accuracy:\t\t48.59 %\n",
            "  training Gorodkin:\t\t0.35\n",
            "  validation Gorodkin:\t\t0.40\n",
            "Epoch 9 of 100 time elapsed 130.736s\n",
            "  training loss:\t\t1.466926\n",
            "  validation loss:\t\t1.343533\n",
            "  training accuracy:\t\t47.82 %\n",
            "  validation accuracy:\t\t51.88 %\n",
            "  training Gorodkin:\t\t0.36\n",
            "  validation Gorodkin:\t\t0.43\n",
            "Epoch 10 of 100 time elapsed 142.477s\n",
            "  training loss:\t\t1.358653\n",
            "  validation loss:\t\t1.238301\n",
            "  training accuracy:\t\t52.51 %\n",
            "  validation accuracy:\t\t56.41 %\n",
            "  training Gorodkin:\t\t0.43\n",
            "  validation Gorodkin:\t\t0.48\n",
            "Epoch 11 of 100 time elapsed 154.150s\n",
            "  training loss:\t\t1.326767\n",
            "  validation loss:\t\t1.221616\n",
            "  training accuracy:\t\t51.44 %\n",
            "  validation accuracy:\t\t57.03 %\n",
            "  training Gorodkin:\t\t0.41\n",
            "  validation Gorodkin:\t\t0.49\n",
            "Epoch 12 of 100 time elapsed 165.663s\n",
            "  training loss:\t\t1.293145\n",
            "  validation loss:\t\t1.244564\n",
            "  training accuracy:\t\t52.18 %\n",
            "  validation accuracy:\t\t56.88 %\n",
            "  training Gorodkin:\t\t0.42\n",
            "  validation Gorodkin:\t\t0.49\n",
            "Epoch 13 of 100 time elapsed 177.316s\n",
            "  training loss:\t\t1.234022\n",
            "  validation loss:\t\t1.168050\n",
            "  training accuracy:\t\t54.40 %\n",
            "  validation accuracy:\t\t62.34 %\n",
            "  training Gorodkin:\t\t0.45\n",
            "  validation Gorodkin:\t\t0.55\n",
            "Epoch 14 of 100 time elapsed 189.000s\n",
            "  training loss:\t\t1.202012\n",
            "  validation loss:\t\t1.076244\n",
            "  training accuracy:\t\t56.54 %\n",
            "  validation accuracy:\t\t61.72 %\n",
            "  training Gorodkin:\t\t0.47\n",
            "  validation Gorodkin:\t\t0.55\n",
            "Epoch 15 of 100 time elapsed 200.665s\n",
            "  training loss:\t\t1.151311\n",
            "  validation loss:\t\t1.093124\n",
            "  training accuracy:\t\t57.52 %\n",
            "  validation accuracy:\t\t63.91 %\n",
            "  training Gorodkin:\t\t0.49\n",
            "  validation Gorodkin:\t\t0.57\n",
            "Epoch 16 of 100 time elapsed 212.426s\n",
            "  training loss:\t\t1.147200\n",
            "  validation loss:\t\t1.050071\n",
            "  training accuracy:\t\t58.47 %\n",
            "  validation accuracy:\t\t64.84 %\n",
            "  training Gorodkin:\t\t0.50\n",
            "  validation Gorodkin:\t\t0.58\n",
            "Epoch 17 of 100 time elapsed 224.106s\n",
            "  training loss:\t\t1.091390\n",
            "  validation loss:\t\t0.981817\n",
            "  training accuracy:\t\t59.75 %\n",
            "  validation accuracy:\t\t67.19 %\n",
            "  training Gorodkin:\t\t0.51\n",
            "  validation Gorodkin:\t\t0.61\n",
            "Epoch 18 of 100 time elapsed 235.556s\n",
            "  training loss:\t\t1.106684\n",
            "  validation loss:\t\t1.000444\n",
            "  training accuracy:\t\t60.61 %\n",
            "  validation accuracy:\t\t63.75 %\n",
            "  training Gorodkin:\t\t0.52\n",
            "  validation Gorodkin:\t\t0.57\n",
            "Epoch 19 of 100 time elapsed 246.961s\n",
            "  training loss:\t\t1.053471\n",
            "  validation loss:\t\t0.971596\n",
            "  training accuracy:\t\t62.38 %\n",
            "  validation accuracy:\t\t67.97 %\n",
            "  training Gorodkin:\t\t0.55\n",
            "  validation Gorodkin:\t\t0.62\n",
            "Epoch 20 of 100 time elapsed 258.573s\n",
            "  training loss:\t\t1.061259\n",
            "  validation loss:\t\t0.953067\n",
            "  training accuracy:\t\t62.25 %\n",
            "  validation accuracy:\t\t70.47 %\n",
            "  training Gorodkin:\t\t0.54\n",
            "  validation Gorodkin:\t\t0.65\n",
            "Epoch 21 of 100 time elapsed 270.124s\n",
            "  training loss:\t\t1.021448\n",
            "  validation loss:\t\t0.934027\n",
            "  training accuracy:\t\t63.36 %\n",
            "  validation accuracy:\t\t68.59 %\n",
            "  training Gorodkin:\t\t0.56\n",
            "  validation Gorodkin:\t\t0.62\n",
            "Epoch 22 of 100 time elapsed 281.748s\n",
            "  training loss:\t\t1.019195\n",
            "  validation loss:\t\t0.965567\n",
            "  training accuracy:\t\t63.57 %\n",
            "  validation accuracy:\t\t65.16 %\n",
            "  training Gorodkin:\t\t0.56\n",
            "  validation Gorodkin:\t\t0.59\n",
            "Epoch 23 of 100 time elapsed 293.235s\n",
            "  training loss:\t\t0.989773\n",
            "  validation loss:\t\t0.904965\n",
            "  training accuracy:\t\t64.68 %\n",
            "  validation accuracy:\t\t68.44 %\n",
            "  training Gorodkin:\t\t0.57\n",
            "  validation Gorodkin:\t\t0.62\n",
            "Epoch 24 of 100 time elapsed 304.749s\n",
            "  training loss:\t\t0.964176\n",
            "  validation loss:\t\t0.881549\n",
            "  training accuracy:\t\t66.49 %\n",
            "  validation accuracy:\t\t70.78 %\n",
            "  training Gorodkin:\t\t0.60\n",
            "  validation Gorodkin:\t\t0.65\n",
            "Epoch 25 of 100 time elapsed 316.171s\n",
            "  training loss:\t\t0.962061\n",
            "  validation loss:\t\t0.914237\n",
            "  training accuracy:\t\t67.02 %\n",
            "  validation accuracy:\t\t68.91 %\n",
            "  training Gorodkin:\t\t0.60\n",
            "  validation Gorodkin:\t\t0.63\n",
            "Epoch 26 of 100 time elapsed 327.624s\n",
            "  training loss:\t\t0.931230\n",
            "  validation loss:\t\t0.929499\n",
            "  training accuracy:\t\t68.05 %\n",
            "  validation accuracy:\t\t66.56 %\n",
            "  training Gorodkin:\t\t0.62\n",
            "  validation Gorodkin:\t\t0.61\n",
            "Epoch 27 of 100 time elapsed 339.284s\n",
            "  training loss:\t\t0.943392\n",
            "  validation loss:\t\t0.859802\n",
            "  training accuracy:\t\t66.61 %\n",
            "  validation accuracy:\t\t71.41 %\n",
            "  training Gorodkin:\t\t0.60\n",
            "  validation Gorodkin:\t\t0.66\n",
            "Epoch 28 of 100 time elapsed 350.950s\n",
            "  training loss:\t\t0.895681\n",
            "  validation loss:\t\t0.888596\n",
            "  training accuracy:\t\t68.38 %\n",
            "  validation accuracy:\t\t71.09 %\n",
            "  training Gorodkin:\t\t0.62\n",
            "  validation Gorodkin:\t\t0.65\n",
            "Epoch 29 of 100 time elapsed 362.582s\n",
            "  training loss:\t\t0.860910\n",
            "  validation loss:\t\t0.958834\n",
            "  training accuracy:\t\t70.31 %\n",
            "  validation accuracy:\t\t70.78 %\n",
            "  training Gorodkin:\t\t0.64\n",
            "  validation Gorodkin:\t\t0.65\n",
            "Epoch 30 of 100 time elapsed 374.249s\n",
            "  training loss:\t\t1.056969\n",
            "  validation loss:\t\t0.907624\n",
            "  training accuracy:\t\t64.35 %\n",
            "  validation accuracy:\t\t66.25 %\n",
            "  training Gorodkin:\t\t0.57\n",
            "  validation Gorodkin:\t\t0.60\n",
            "Epoch 31 of 100 time elapsed 386.012s\n",
            "  training loss:\t\t0.949180\n",
            "  validation loss:\t\t0.862459\n",
            "  training accuracy:\t\t67.64 %\n",
            "  validation accuracy:\t\t69.38 %\n",
            "  training Gorodkin:\t\t0.61\n",
            "  validation Gorodkin:\t\t0.63\n",
            "Epoch 32 of 100 time elapsed 397.587s\n",
            "  training loss:\t\t0.912755\n",
            "  validation loss:\t\t0.992047\n",
            "  training accuracy:\t\t67.80 %\n",
            "  validation accuracy:\t\t65.78 %\n",
            "  training Gorodkin:\t\t0.61\n",
            "  validation Gorodkin:\t\t0.60\n",
            "Epoch 33 of 100 time elapsed 409.283s\n",
            "  training loss:\t\t0.907844\n",
            "  validation loss:\t\t0.954351\n",
            "  training accuracy:\t\t68.42 %\n",
            "  validation accuracy:\t\t69.06 %\n",
            "  training Gorodkin:\t\t0.62\n",
            "  validation Gorodkin:\t\t0.63\n",
            "Epoch 34 of 100 time elapsed 420.809s\n",
            "  training loss:\t\t0.844111\n",
            "  validation loss:\t\t0.871073\n",
            "  training accuracy:\t\t71.50 %\n",
            "  validation accuracy:\t\t68.59 %\n",
            "  training Gorodkin:\t\t0.66\n",
            "  validation Gorodkin:\t\t0.63\n",
            "Epoch 35 of 100 time elapsed 432.753s\n",
            "  training loss:\t\t0.838825\n",
            "  validation loss:\t\t0.778123\n",
            "  training accuracy:\t\t71.71 %\n",
            "  validation accuracy:\t\t75.62 %\n",
            "  training Gorodkin:\t\t0.66\n",
            "  validation Gorodkin:\t\t0.71\n",
            "Epoch 36 of 100 time elapsed 444.632s\n",
            "  training loss:\t\t0.799745\n",
            "  validation loss:\t\t0.798300\n",
            "  training accuracy:\t\t71.75 %\n",
            "  validation accuracy:\t\t73.44 %\n",
            "  training Gorodkin:\t\t0.66\n",
            "  validation Gorodkin:\t\t0.69\n",
            "Epoch 37 of 100 time elapsed 456.307s\n",
            "  training loss:\t\t0.827194\n",
            "  validation loss:\t\t0.855129\n",
            "  training accuracy:\t\t71.96 %\n",
            "  validation accuracy:\t\t73.44 %\n",
            "  training Gorodkin:\t\t0.66\n",
            "  validation Gorodkin:\t\t0.69\n",
            "Epoch 38 of 100 time elapsed 468.160s\n",
            "  training loss:\t\t0.816840\n",
            "  validation loss:\t\t0.807812\n",
            "  training accuracy:\t\t72.82 %\n",
            "  validation accuracy:\t\t72.19 %\n",
            "  training Gorodkin:\t\t0.67\n",
            "  validation Gorodkin:\t\t0.67\n",
            "Epoch 39 of 100 time elapsed 479.762s\n",
            "  training loss:\t\t0.823848\n",
            "  validation loss:\t\t0.801388\n",
            "  training accuracy:\t\t72.04 %\n",
            "  validation accuracy:\t\t75.00 %\n",
            "  training Gorodkin:\t\t0.66\n",
            "  validation Gorodkin:\t\t0.70\n",
            "Epoch 40 of 100 time elapsed 491.311s\n",
            "  training loss:\t\t0.784490\n",
            "  validation loss:\t\t0.797592\n",
            "  training accuracy:\t\t73.77 %\n",
            "  validation accuracy:\t\t72.50 %\n",
            "  training Gorodkin:\t\t0.69\n",
            "  validation Gorodkin:\t\t0.68\n",
            "Epoch 41 of 100 time elapsed 502.970s\n",
            "  training loss:\t\t0.787275\n",
            "  validation loss:\t\t0.798105\n",
            "  training accuracy:\t\t73.60 %\n",
            "  validation accuracy:\t\t75.62 %\n",
            "  training Gorodkin:\t\t0.68\n",
            "  validation Gorodkin:\t\t0.71\n",
            "Epoch 42 of 100 time elapsed 514.574s\n",
            "  training loss:\t\t0.795448\n",
            "  validation loss:\t\t0.846735\n",
            "  training accuracy:\t\t72.94 %\n",
            "  validation accuracy:\t\t72.19 %\n",
            "  training Gorodkin:\t\t0.68\n",
            "  validation Gorodkin:\t\t0.67\n",
            "Epoch 43 of 100 time elapsed 526.343s\n",
            "  training loss:\t\t0.764449\n",
            "  validation loss:\t\t0.739201\n",
            "  training accuracy:\t\t74.01 %\n",
            "  validation accuracy:\t\t76.09 %\n",
            "  training Gorodkin:\t\t0.69\n",
            "  validation Gorodkin:\t\t0.72\n",
            "Epoch 44 of 100 time elapsed 538.043s\n",
            "  training loss:\t\t0.776291\n",
            "  validation loss:\t\t0.806049\n",
            "  training accuracy:\t\t72.53 %\n",
            "  validation accuracy:\t\t71.72 %\n",
            "  training Gorodkin:\t\t0.67\n",
            "  validation Gorodkin:\t\t0.67\n",
            "Epoch 45 of 100 time elapsed 549.856s\n",
            "  training loss:\t\t0.754722\n",
            "  validation loss:\t\t0.978484\n",
            "  training accuracy:\t\t74.96 %\n",
            "  validation accuracy:\t\t69.84 %\n",
            "  training Gorodkin:\t\t0.70\n",
            "  validation Gorodkin:\t\t0.65\n",
            "Epoch 46 of 100 time elapsed 561.801s\n",
            "  training loss:\t\t0.783993\n",
            "  validation loss:\t\t0.792208\n",
            "  training accuracy:\t\t74.10 %\n",
            "  validation accuracy:\t\t75.16 %\n",
            "  training Gorodkin:\t\t0.69\n",
            "  validation Gorodkin:\t\t0.71\n",
            "Epoch 47 of 100 time elapsed 573.534s\n",
            "  training loss:\t\t0.733883\n",
            "  validation loss:\t\t0.709312\n",
            "  training accuracy:\t\t75.58 %\n",
            "  validation accuracy:\t\t77.66 %\n",
            "  training Gorodkin:\t\t0.71\n",
            "  validation Gorodkin:\t\t0.73\n",
            "Epoch 48 of 100 time elapsed 585.102s\n",
            "  training loss:\t\t0.709733\n",
            "  validation loss:\t\t0.740704\n",
            "  training accuracy:\t\t76.44 %\n",
            "  validation accuracy:\t\t75.16 %\n",
            "  training Gorodkin:\t\t0.72\n",
            "  validation Gorodkin:\t\t0.71\n",
            "Epoch 49 of 100 time elapsed 596.759s\n",
            "  training loss:\t\t0.706202\n",
            "  validation loss:\t\t0.703476\n",
            "  training accuracy:\t\t76.89 %\n",
            "  validation accuracy:\t\t77.50 %\n",
            "  training Gorodkin:\t\t0.72\n",
            "  validation Gorodkin:\t\t0.73\n",
            "Epoch 50 of 100 time elapsed 608.325s\n",
            "  training loss:\t\t0.740477\n",
            "  validation loss:\t\t0.797722\n",
            "  training accuracy:\t\t74.18 %\n",
            "  validation accuracy:\t\t75.31 %\n",
            "  training Gorodkin:\t\t0.69\n",
            "  validation Gorodkin:\t\t0.71\n",
            "Epoch 51 of 100 time elapsed 620.086s\n",
            "  training loss:\t\t0.689055\n",
            "  validation loss:\t\t0.727533\n",
            "  training accuracy:\t\t76.32 %\n",
            "  validation accuracy:\t\t77.66 %\n",
            "  training Gorodkin:\t\t0.72\n",
            "  validation Gorodkin:\t\t0.74\n",
            "Epoch 52 of 100 time elapsed 631.731s\n",
            "  training loss:\t\t0.684956\n",
            "  validation loss:\t\t0.679664\n",
            "  training accuracy:\t\t77.75 %\n",
            "  validation accuracy:\t\t80.16 %\n",
            "  training Gorodkin:\t\t0.73\n",
            "  validation Gorodkin:\t\t0.76\n",
            "Epoch 53 of 100 time elapsed 643.342s\n",
            "  training loss:\t\t0.676289\n",
            "  validation loss:\t\t0.763616\n",
            "  training accuracy:\t\t77.75 %\n",
            "  validation accuracy:\t\t75.94 %\n",
            "  training Gorodkin:\t\t0.73\n",
            "  validation Gorodkin:\t\t0.71\n",
            "Epoch 54 of 100 time elapsed 654.989s\n",
            "  training loss:\t\t0.657986\n",
            "  validation loss:\t\t0.707519\n",
            "  training accuracy:\t\t77.71 %\n",
            "  validation accuracy:\t\t77.97 %\n",
            "  training Gorodkin:\t\t0.73\n",
            "  validation Gorodkin:\t\t0.74\n",
            "Epoch 55 of 100 time elapsed 666.571s\n",
            "  training loss:\t\t0.743525\n",
            "  validation loss:\t\t0.743320\n",
            "  training accuracy:\t\t74.30 %\n",
            "  validation accuracy:\t\t78.12 %\n",
            "  training Gorodkin:\t\t0.69\n",
            "  validation Gorodkin:\t\t0.74\n",
            "Epoch 56 of 100 time elapsed 678.238s\n",
            "  training loss:\t\t0.648005\n",
            "  validation loss:\t\t0.746602\n",
            "  training accuracy:\t\t78.25 %\n",
            "  validation accuracy:\t\t77.81 %\n",
            "  training Gorodkin:\t\t0.74\n",
            "  validation Gorodkin:\t\t0.74\n",
            "Epoch 57 of 100 time elapsed 689.962s\n",
            "  training loss:\t\t0.623616\n",
            "  validation loss:\t\t0.696377\n",
            "  training accuracy:\t\t78.66 %\n",
            "  validation accuracy:\t\t79.69 %\n",
            "  training Gorodkin:\t\t0.74\n",
            "  validation Gorodkin:\t\t0.76\n",
            "Epoch 58 of 100 time elapsed 701.671s\n",
            "  training loss:\t\t0.616685\n",
            "  validation loss:\t\t0.726100\n",
            "  training accuracy:\t\t79.81 %\n",
            "  validation accuracy:\t\t76.72 %\n",
            "  training Gorodkin:\t\t0.76\n",
            "  validation Gorodkin:\t\t0.72\n",
            "Epoch 59 of 100 time elapsed 713.346s\n",
            "  training loss:\t\t0.649675\n",
            "  validation loss:\t\t0.684256\n",
            "  training accuracy:\t\t77.55 %\n",
            "  validation accuracy:\t\t79.38 %\n",
            "  training Gorodkin:\t\t0.73\n",
            "  validation Gorodkin:\t\t0.76\n",
            "Epoch 60 of 100 time elapsed 724.931s\n",
            "  training loss:\t\t0.613461\n",
            "  validation loss:\t\t0.711044\n",
            "  training accuracy:\t\t80.02 %\n",
            "  validation accuracy:\t\t78.28 %\n",
            "  training Gorodkin:\t\t0.76\n",
            "  validation Gorodkin:\t\t0.74\n",
            "Epoch 61 of 100 time elapsed 736.597s\n",
            "  training loss:\t\t0.580054\n",
            "  validation loss:\t\t0.665321\n",
            "  training accuracy:\t\t80.55 %\n",
            "  validation accuracy:\t\t80.62 %\n",
            "  training Gorodkin:\t\t0.77\n",
            "  validation Gorodkin:\t\t0.77\n",
            "Epoch 62 of 100 time elapsed 748.373s\n",
            "  training loss:\t\t0.584254\n",
            "  validation loss:\t\t0.659457\n",
            "  training accuracy:\t\t80.67 %\n",
            "  validation accuracy:\t\t80.62 %\n",
            "  training Gorodkin:\t\t0.77\n",
            "  validation Gorodkin:\t\t0.77\n",
            "Epoch 63 of 100 time elapsed 760.020s\n",
            "  training loss:\t\t0.560683\n",
            "  validation loss:\t\t0.684662\n",
            "  training accuracy:\t\t81.50 %\n",
            "  validation accuracy:\t\t80.16 %\n",
            "  training Gorodkin:\t\t0.78\n",
            "  validation Gorodkin:\t\t0.76\n",
            "Epoch 64 of 100 time elapsed 771.691s\n",
            "  training loss:\t\t0.572863\n",
            "  validation loss:\t\t0.709105\n",
            "  training accuracy:\t\t80.18 %\n",
            "  validation accuracy:\t\t80.00 %\n",
            "  training Gorodkin:\t\t0.76\n",
            "  validation Gorodkin:\t\t0.76\n",
            "Epoch 65 of 100 time elapsed 783.324s\n",
            "  training loss:\t\t0.584656\n",
            "  validation loss:\t\t0.679626\n",
            "  training accuracy:\t\t81.50 %\n",
            "  validation accuracy:\t\t79.38 %\n",
            "  training Gorodkin:\t\t0.78\n",
            "  validation Gorodkin:\t\t0.76\n",
            "Epoch 66 of 100 time elapsed 794.926s\n",
            "  training loss:\t\t0.568804\n",
            "  validation loss:\t\t0.730217\n",
            "  training accuracy:\t\t81.21 %\n",
            "  validation accuracy:\t\t78.28 %\n",
            "  training Gorodkin:\t\t0.78\n",
            "  validation Gorodkin:\t\t0.74\n",
            "Epoch 67 of 100 time elapsed 806.523s\n",
            "  training loss:\t\t0.578564\n",
            "  validation loss:\t\t0.675119\n",
            "  training accuracy:\t\t80.39 %\n",
            "  validation accuracy:\t\t80.16 %\n",
            "  training Gorodkin:\t\t0.77\n",
            "  validation Gorodkin:\t\t0.76\n",
            "Epoch 68 of 100 time elapsed 818.052s\n",
            "  training loss:\t\t0.557012\n",
            "  validation loss:\t\t0.699665\n",
            "  training accuracy:\t\t81.41 %\n",
            "  validation accuracy:\t\t79.84 %\n",
            "  training Gorodkin:\t\t0.78\n",
            "  validation Gorodkin:\t\t0.76\n",
            "Epoch 69 of 100 time elapsed 829.611s\n",
            "  training loss:\t\t0.579897\n",
            "  validation loss:\t\t0.698497\n",
            "  training accuracy:\t\t80.84 %\n",
            "  validation accuracy:\t\t78.59 %\n",
            "  training Gorodkin:\t\t0.77\n",
            "  validation Gorodkin:\t\t0.75\n",
            "Epoch 70 of 100 time elapsed 841.166s\n",
            "  training loss:\t\t0.548191\n",
            "  validation loss:\t\t0.677856\n",
            "  training accuracy:\t\t81.50 %\n",
            "  validation accuracy:\t\t80.78 %\n",
            "  training Gorodkin:\t\t0.78\n",
            "  validation Gorodkin:\t\t0.77\n",
            "Epoch 71 of 100 time elapsed 852.783s\n",
            "  training loss:\t\t0.531140\n",
            "  validation loss:\t\t0.717809\n",
            "  training accuracy:\t\t81.95 %\n",
            "  validation accuracy:\t\t78.28 %\n",
            "  training Gorodkin:\t\t0.78\n",
            "  validation Gorodkin:\t\t0.74\n",
            "Epoch 72 of 100 time elapsed 864.426s\n",
            "  training loss:\t\t0.530755\n",
            "  validation loss:\t\t0.678101\n",
            "  training accuracy:\t\t81.66 %\n",
            "  validation accuracy:\t\t80.00 %\n",
            "  training Gorodkin:\t\t0.78\n",
            "  validation Gorodkin:\t\t0.76\n",
            "Epoch 73 of 100 time elapsed 876.263s\n",
            "  training loss:\t\t0.537132\n",
            "  validation loss:\t\t0.687696\n",
            "  training accuracy:\t\t82.24 %\n",
            "  validation accuracy:\t\t78.44 %\n",
            "  training Gorodkin:\t\t0.79\n",
            "  validation Gorodkin:\t\t0.74\n",
            "Epoch 74 of 100 time elapsed 887.924s\n",
            "  training loss:\t\t0.536663\n",
            "  validation loss:\t\t0.676623\n",
            "  training accuracy:\t\t82.69 %\n",
            "  validation accuracy:\t\t80.16 %\n",
            "  training Gorodkin:\t\t0.79\n",
            "  validation Gorodkin:\t\t0.77\n",
            "Epoch 75 of 100 time elapsed 899.491s\n",
            "  training loss:\t\t0.494283\n",
            "  validation loss:\t\t0.664843\n",
            "  training accuracy:\t\t83.39 %\n",
            "  validation accuracy:\t\t80.00 %\n",
            "  training Gorodkin:\t\t0.80\n",
            "  validation Gorodkin:\t\t0.76\n",
            "Epoch 76 of 100 time elapsed 910.958s\n",
            "  training loss:\t\t0.509187\n",
            "  validation loss:\t\t0.672181\n",
            "  training accuracy:\t\t82.32 %\n",
            "  validation accuracy:\t\t80.78 %\n",
            "  training Gorodkin:\t\t0.79\n",
            "  validation Gorodkin:\t\t0.77\n",
            "Epoch 77 of 100 time elapsed 922.515s\n",
            "  training loss:\t\t0.519523\n",
            "  validation loss:\t\t0.700918\n",
            "  training accuracy:\t\t82.40 %\n",
            "  validation accuracy:\t\t80.94 %\n",
            "  training Gorodkin:\t\t0.79\n",
            "  validation Gorodkin:\t\t0.77\n",
            "Epoch 78 of 100 time elapsed 934.169s\n",
            "  training loss:\t\t0.507154\n",
            "  validation loss:\t\t0.705388\n",
            "  training accuracy:\t\t82.69 %\n",
            "  validation accuracy:\t\t80.78 %\n",
            "  training Gorodkin:\t\t0.79\n",
            "  validation Gorodkin:\t\t0.77\n",
            "Epoch 79 of 100 time elapsed 945.590s\n",
            "  training loss:\t\t0.509677\n",
            "  validation loss:\t\t0.663962\n",
            "  training accuracy:\t\t83.18 %\n",
            "  validation accuracy:\t\t80.47 %\n",
            "  training Gorodkin:\t\t0.80\n",
            "  validation Gorodkin:\t\t0.77\n",
            "Epoch 80 of 100 time elapsed 957.209s\n",
            "  training loss:\t\t0.506957\n",
            "  validation loss:\t\t0.728009\n",
            "  training accuracy:\t\t82.44 %\n",
            "  validation accuracy:\t\t80.16 %\n",
            "  training Gorodkin:\t\t0.79\n",
            "  validation Gorodkin:\t\t0.76\n",
            "Epoch 81 of 100 time elapsed 968.925s\n",
            "  training loss:\t\t0.514708\n",
            "  validation loss:\t\t0.669869\n",
            "  training accuracy:\t\t82.94 %\n",
            "  validation accuracy:\t\t80.62 %\n",
            "  training Gorodkin:\t\t0.80\n",
            "  validation Gorodkin:\t\t0.77\n",
            "Epoch 82 of 100 time elapsed 980.597s\n",
            "  training loss:\t\t0.512202\n",
            "  validation loss:\t\t0.631239\n",
            "  training accuracy:\t\t81.58 %\n",
            "  validation accuracy:\t\t81.41 %\n",
            "  training Gorodkin:\t\t0.78\n",
            "  validation Gorodkin:\t\t0.78\n",
            "Epoch 83 of 100 time elapsed 992.200s\n",
            "  training loss:\t\t0.515783\n",
            "  validation loss:\t\t0.754625\n",
            "  training accuracy:\t\t81.46 %\n",
            "  validation accuracy:\t\t78.75 %\n",
            "  training Gorodkin:\t\t0.78\n",
            "  validation Gorodkin:\t\t0.75\n",
            "Epoch 84 of 100 time elapsed 1003.849s\n",
            "  training loss:\t\t0.532680\n",
            "  validation loss:\t\t0.773343\n",
            "  training accuracy:\t\t82.07 %\n",
            "  validation accuracy:\t\t78.75 %\n",
            "  training Gorodkin:\t\t0.79\n",
            "  validation Gorodkin:\t\t0.75\n",
            "Epoch 85 of 100 time elapsed 1015.538s\n",
            "  training loss:\t\t0.498788\n",
            "  validation loss:\t\t0.648450\n",
            "  training accuracy:\t\t82.57 %\n",
            "  validation accuracy:\t\t81.09 %\n",
            "  training Gorodkin:\t\t0.79\n",
            "  validation Gorodkin:\t\t0.77\n",
            "Epoch 86 of 100 time elapsed 1027.194s\n",
            "  training loss:\t\t0.490287\n",
            "  validation loss:\t\t0.672301\n",
            "  training accuracy:\t\t83.10 %\n",
            "  validation accuracy:\t\t79.69 %\n",
            "  training Gorodkin:\t\t0.80\n",
            "  validation Gorodkin:\t\t0.76\n",
            "Epoch 87 of 100 time elapsed 1038.750s\n",
            "  training loss:\t\t0.460235\n",
            "  validation loss:\t\t0.650247\n",
            "  training accuracy:\t\t84.13 %\n",
            "  validation accuracy:\t\t80.94 %\n",
            "  training Gorodkin:\t\t0.81\n",
            "  validation Gorodkin:\t\t0.77\n",
            "Epoch 88 of 100 time elapsed 1050.220s\n",
            "  training loss:\t\t0.435625\n",
            "  validation loss:\t\t0.694654\n",
            "  training accuracy:\t\t84.75 %\n",
            "  validation accuracy:\t\t80.62 %\n",
            "  training Gorodkin:\t\t0.82\n",
            "  validation Gorodkin:\t\t0.77\n",
            "Epoch 89 of 100 time elapsed 1061.893s\n",
            "  training loss:\t\t0.440344\n",
            "  validation loss:\t\t0.651008\n",
            "  training accuracy:\t\t84.42 %\n",
            "  validation accuracy:\t\t82.34 %\n",
            "  training Gorodkin:\t\t0.81\n",
            "  validation Gorodkin:\t\t0.79\n",
            "Epoch 90 of 100 time elapsed 1073.588s\n",
            "  training loss:\t\t0.451942\n",
            "  validation loss:\t\t0.649248\n",
            "  training accuracy:\t\t85.07 %\n",
            "  validation accuracy:\t\t81.25 %\n",
            "  training Gorodkin:\t\t0.82\n",
            "  validation Gorodkin:\t\t0.78\n",
            "Epoch 91 of 100 time elapsed 1085.187s\n",
            "  training loss:\t\t0.461591\n",
            "  validation loss:\t\t0.639120\n",
            "  training accuracy:\t\t84.42 %\n",
            "  validation accuracy:\t\t82.66 %\n",
            "  training Gorodkin:\t\t0.81\n",
            "  validation Gorodkin:\t\t0.79\n",
            "Epoch 92 of 100 time elapsed 1096.901s\n",
            "  training loss:\t\t0.489625\n",
            "  validation loss:\t\t0.715123\n",
            "  training accuracy:\t\t83.76 %\n",
            "  validation accuracy:\t\t79.84 %\n",
            "  training Gorodkin:\t\t0.81\n",
            "  validation Gorodkin:\t\t0.76\n",
            "Epoch 93 of 100 time elapsed 1108.406s\n",
            "  training loss:\t\t0.440306\n",
            "  validation loss:\t\t0.670840\n",
            "  training accuracy:\t\t84.21 %\n",
            "  validation accuracy:\t\t82.19 %\n",
            "  training Gorodkin:\t\t0.81\n",
            "  validation Gorodkin:\t\t0.79\n",
            "Epoch 94 of 100 time elapsed 1120.130s\n",
            "  training loss:\t\t0.431930\n",
            "  validation loss:\t\t0.692271\n",
            "  training accuracy:\t\t84.62 %\n",
            "  validation accuracy:\t\t81.09 %\n",
            "  training Gorodkin:\t\t0.82\n",
            "  validation Gorodkin:\t\t0.78\n",
            "Epoch 95 of 100 time elapsed 1131.754s\n",
            "  training loss:\t\t0.430632\n",
            "  validation loss:\t\t0.709756\n",
            "  training accuracy:\t\t83.68 %\n",
            "  validation accuracy:\t\t81.09 %\n",
            "  training Gorodkin:\t\t0.81\n",
            "  validation Gorodkin:\t\t0.77\n",
            "Epoch 96 of 100 time elapsed 1143.232s\n",
            "  training loss:\t\t0.420474\n",
            "  validation loss:\t\t0.752793\n",
            "  training accuracy:\t\t85.40 %\n",
            "  validation accuracy:\t\t80.16 %\n",
            "  training Gorodkin:\t\t0.83\n",
            "  validation Gorodkin:\t\t0.76\n",
            "Epoch 97 of 100 time elapsed 1155.055s\n",
            "  training loss:\t\t0.432953\n",
            "  validation loss:\t\t0.695396\n",
            "  training accuracy:\t\t84.95 %\n",
            "  validation accuracy:\t\t81.25 %\n",
            "  training Gorodkin:\t\t0.82\n",
            "  validation Gorodkin:\t\t0.78\n",
            "Epoch 98 of 100 time elapsed 1166.810s\n",
            "  training loss:\t\t0.413624\n",
            "  validation loss:\t\t0.650411\n",
            "  training accuracy:\t\t85.03 %\n",
            "  validation accuracy:\t\t82.97 %\n",
            "  training Gorodkin:\t\t0.82\n",
            "  validation Gorodkin:\t\t0.80\n",
            "Epoch 99 of 100 time elapsed 1178.512s\n",
            "  training loss:\t\t0.413345\n",
            "  validation loss:\t\t0.708098\n",
            "  training accuracy:\t\t85.73 %\n",
            "  validation accuracy:\t\t81.09 %\n",
            "  training Gorodkin:\t\t0.83\n",
            "  validation Gorodkin:\t\t0.78\n",
            "Epoch 100 of 100 time elapsed 1190.266s\n",
            "  training loss:\t\t0.430014\n",
            "  validation loss:\t\t0.648804\n",
            "  training accuracy:\t\t84.54 %\n",
            "  validation accuracy:\t\t83.12 %\n",
            "  training Gorodkin:\t\t0.82\n",
            "  validation Gorodkin:\t\t0.80\n"
          ]
        }
      ]
    },
    {
      "cell_type": "code",
      "source": [
        "print(\"Minimum validation loss: {:.6f}\".format(min_val_loss))\n"
      ],
      "metadata": {
        "id": "oUt9JKyrVYWt",
        "colab": {
          "base_uri": "https://localhost:8080/"
        },
        "outputId": "91272868-db17-4d83-95fb-d150d95620fa"
      },
      "execution_count": null,
      "outputs": [
        {
          "output_type": "stream",
          "name": "stdout",
          "text": [
            "Minimum validation loss: 0.631239\n"
          ]
        }
      ]
    },
    {
      "cell_type": "markdown",
      "source": [
        "Model loss and accuracy\n",
        "Here we plot the loss and the accuracy for the training and validation set at each epoch."
      ],
      "metadata": {
        "id": "pz0PkZ2VU34M"
      }
    },
    {
      "cell_type": "code",
      "source": [
        "# Plot training and validation loss\n",
        "x_axis = range(num_epochs)\n",
        "plt.figure(figsize=(8,6))\n",
        "plt.plot(x_axis,loss_training)\n",
        "plt.plot(x_axis,loss_validation)\n",
        "plt.xlabel('Epoch')\n",
        "plt.ylabel('Error')\n",
        "plt.legend(('Training','Validation'));\n",
        "plt.savefig('training and validation loss')"
      ],
      "metadata": {
        "id": "A5mGqRRYVgr9",
        "colab": {
          "base_uri": "https://localhost:8080/",
          "height": 388
        },
        "outputId": "a32f18a2-5501-4b4c-ba47-0e4fd306bcf9"
      },
      "execution_count": null,
      "outputs": [
        {
          "output_type": "display_data",
          "data": {
            "text/plain": [
              "<Figure size 576x432 with 1 Axes>"
            ],
            "image/png": "[encoded data removed]"
          },
          "metadata": {
            "needs_background": "light"
          }
        }
      ]
    },
    {
      "cell_type": "code",
      "source": [
        "plt.figure(figsize=(8,6))\n",
        "plt.plot(x_axis,acc_training)\n",
        "plt.plot(x_axis,acc_validation)\n",
        "plt.xlabel('Epoch')\n",
        "plt.ylabel('Accuracy')\n",
        "plt.legend(('Training','Validation'));\n",
        "plt.savefig('training and validation accuracy')"
      ],
      "metadata": {
        "id": "82cA9jGQVoi0",
        "colab": {
          "base_uri": "https://localhost:8080/",
          "height": 388
        },
        "outputId": "3003a563-b84a-466d-d67e-9c2edb99013e"
      },
      "execution_count": null,
      "outputs": [
        {
          "output_type": "display_data",
          "data": {
            "text/plain": [
              "<Figure size 576x432 with 1 Axes>"
            ],
            "image/png": "[encoded data removed]"
          },
          "metadata": {
            "needs_background": "light"
          }
        }
      ]
    },
    {
      "cell_type": "markdown",
      "source": [
        "Confusion matrix\n",
        "The confusion matrix allows us to visualize how well is predicted each class and which are the most common misclassifications."
      ],
      "metadata": {
        "id": "UcxHGBmhVq-8"
      }
    },
    {
      "cell_type": "code",
      "source": [
        "# Plot confusion matrix \n",
        "# Code based on http://scikit-learn.org/stable/auto_examples/model_selection/plot_confusion_matrix.html\n",
        "\n",
        "plt.figure(figsize=(8,8))\n",
        "cmap=plt.cm.Blues   \n",
        "plt.imshow(cf_val, interpolation='nearest', cmap=cmap)\n",
        "plt.title('Confusion matrix validation set')\n",
        "plt.colorbar()\n",
        "tick_marks = np.arange(n_class)\n",
        "classes = ['Nucleus','Cytoplasm','Extracellular','Mitochondrion','Cell membrane','ER',\n",
        "           'Chloroplast','Golgi apparatus','Lysosome','Vacuole']\n",
        "\n",
        "plt.xticks(tick_marks, classes, rotation=60)\n",
        "plt.yticks(tick_marks, classes)\n",
        "\n",
        "thresh = cf_val.max() / 2.\n",
        "for i, j in itertools.product(range(cf_val.shape[0]), range(cf_val.shape[1])):\n",
        "    plt.text(j, i, cf_val[i, j],\n",
        "             horizontalalignment=\"center\",\n",
        "             color=\"white\" if cf_val[i, j] > thresh else \"black\")\n",
        "\n",
        "plt.tight_layout()\n",
        "plt.ylabel('True location')\n",
        "plt.xlabel('Predicted location');\n",
        "plt.savefig('Confusion matrix validation set')"
      ],
      "metadata": {
        "id": "KDouZbNvVu6c",
        "colab": {
          "base_uri": "https://localhost:8080/",
          "height": 571
        },
        "outputId": "a54ae9aa-0022-406a-d3df-4e7fbf69af5b"
      },
      "execution_count": null,
      "outputs": [
        {
          "output_type": "display_data",
          "data": {
            "text/plain": [
              "<Figure size 576x576 with 2 Axes>"
            ],
            "image/png": "[encoded data removed]"
          },
          "metadata": {
            "needs_background": "light"
          }
        }
      ]
    },
    {
      "cell_type": "code",
      "source": [
        "batch_size_1=X_val.shape[0]"
      ],
      "metadata": {
        "id": "Nc9T_ub7C3CH"
      },
      "execution_count": null,
      "outputs": []
    },
    {
      "cell_type": "code",
      "source": [
        "_, val_fn_cnn_lstm, cnn_lstm_params_batch1 = CNN_LSTM(batch_size_1, seq_len, n_hid, n_feat, n_class, n_filt, lr, drop_prob)"
      ],
      "metadata": {
        "id": "zUv7OwVbtYfA"
      },
      "execution_count": null,
      "outputs": []
    },
    {
      "cell_type": "code",
      "source": [
        "with np.load('/content/subcellular_localization/notebook tutorial/params/CNN-LSTM_params.npz') as f:\n",
        "    param_values = [f['arr_%d' % i].astype(np.float32) for i in range(len(f.files))]\n",
        "lasagne.layers.set_all_param_values(cnn_lstm_params_batch1, param_values)\n"
      ],
      "metadata": {
        "id": "SriJjLvhwul7"
      },
      "execution_count": null,
      "outputs": []
    },
    {
      "cell_type": "code",
      "source": [
        "# Initialize confusion matrix\n",
        "confusion_cnn_lstm_val = ConfusionMatrix(n_class)\n",
        "# Perform prediction\n",
        "err_cnn_lstm_val, predict_cnn_lstm_val = val_fn_cnn_lstm(\n",
        "    X_val.astype(np.float32), y_val.astype(np.int32), mask_val.astype(np.float32))\n",
        "preds_cnn_lstm_val = np.argmax(predict_cnn_lstm_val, axis=-1)\n",
        "# Calculate accuracy\n",
        "confusion_cnn_lstm_val.batch_add(y_val, preds_cnn_lstm_val)\n",
        "cnn_lstm_accuracy_val = confusion_cnn_lstm_val.accuracy()\n",
        "cf_cnn_lstm_val = confusion_cnn_lstm_val.ret_mat()"
      ],
      "metadata": {
        "id": "l8xpBn9mj8Jv"
      },
      "execution_count": null,
      "outputs": []
    },
    {
      "cell_type": "code",
      "source": [
        "cnn_lstm_accuracy_val"
      ],
      "metadata": {
        "id": "FtjpmEbaAmgc",
        "colab": {
          "base_uri": "https://localhost:8080/"
        },
        "outputId": "2ea47732-0124-401e-9bf4-37998e9d57df"
      },
      "execution_count": null,
      "outputs": [
        {
          "output_type": "execute_result",
          "data": {
            "text/plain": [
              "0.8125984251968504"
            ]
          },
          "metadata": {},
          "execution_count": 28
        }
      ]
    },
    {
      "cell_type": "code",
      "source": [
        "cnn_lstm_gorodkin_val=gorodkin(cf_cnn_lstm_val)\n",
        "cnn_lstm_gorodkin_val"
      ],
      "metadata": {
        "id": "UqGGviWhAvOs",
        "colab": {
          "base_uri": "https://localhost:8080/"
        },
        "outputId": "aee7eb87-c3f6-466e-faed-3490b747c76d"
      },
      "execution_count": null,
      "outputs": [
        {
          "output_type": "execute_result",
          "data": {
            "text/plain": [
              "0.7783528136602552"
            ]
          },
          "metadata": {},
          "execution_count": 29
        }
      ]
    },
    {
      "cell_type": "code",
      "source": [
        "batch_size_2=X_train.shape[0]"
      ],
      "metadata": {
        "id": "8sKAuvONLRqL"
      },
      "execution_count": null,
      "outputs": []
    },
    {
      "cell_type": "code",
      "source": [
        "train_fn_cnn_lstm, _, cnn_lstm_params_batch2 = CNN_LSTM(batch_size_2, seq_len, n_hid, n_feat, n_class, n_filt, lr, drop_prob)"
      ],
      "metadata": {
        "id": "ORt7GkPDLXSY"
      },
      "execution_count": null,
      "outputs": []
    },
    {
      "cell_type": "code",
      "source": [
        "with np.load('/content/subcellular_localization/notebook tutorial/params/CNN-LSTM_params.npz') as f:\n",
        "    param_values = [f['arr_%d' % i].astype(np.float32) for i in range(len(f.files))]\n",
        "lasagne.layers.set_all_param_values(cnn_lstm_params_batch2, param_values)"
      ],
      "metadata": {
        "id": "dnaKmg_YMQAj"
      },
      "execution_count": null,
      "outputs": []
    },
    {
      "cell_type": "code",
      "source": [
        "# Initialize confusion matrix\n",
        "confusion_cnn_lstm_train = ConfusionMatrix(n_class)\n",
        "# Perform prediction\n",
        "err_cnn_lstm_train, predict_cnn_lstm_train = train_fn_cnn_lstm(\n",
        "    X_train.astype(np.float32), y_train.astype(np.int32), mask_train.astype(np.float32))\n",
        "preds_cnn_lstm_train = np.argmax(predict_cnn_lstm_train, axis=-1)\n",
        "# Calculate accuracy\n",
        "confusion_cnn_lstm_train.batch_add(y_train, preds_cnn_lstm_train)\n",
        "cnn_lstm_accuracy_train = confusion_cnn_lstm_train.accuracy()\n",
        "cf_cnn_lstm_train = confusion_cnn_lstm_train.ret_mat()"
      ],
      "metadata": {
        "id": "f0DiFuJZJYPI"
      },
      "execution_count": null,
      "outputs": []
    },
    {
      "cell_type": "code",
      "source": [
        "cnn_lstm_accuracy_train"
      ],
      "metadata": {
        "id": "mfvvvv9vNy0h"
      },
      "execution_count": null,
      "outputs": []
    },
    {
      "cell_type": "code",
      "source": [
        "cnn_lstm_gorodkin_train=gorodkin(cf_cnn_lstm_train)\n",
        "cnn_lstm_gorodkin_train"
      ],
      "metadata": {
        "id": "0NtqfrHvN1Uz"
      },
      "execution_count": null,
      "outputs": []
    }
  ]
}